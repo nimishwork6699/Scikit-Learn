{
  "nbformat": 4,
  "nbformat_minor": 0,
  "metadata": {
    "colab": {
      "provenance": [],
      "authorship_tag": "ABX9TyPjbX1LsDXHH6JuJVChmJxK",
      "include_colab_link": true
    },
    "kernelspec": {
      "name": "python3",
      "display_name": "Python 3"
    },
    "language_info": {
      "name": "python"
    }
  },
  "cells": [
    {
      "cell_type": "markdown",
      "metadata": {
        "id": "view-in-github",
        "colab_type": "text"
      },
      "source": [
        "<a href=\"https://colab.research.google.com/github/nimishwork6699/Scikit-Learn/blob/main/scikit_learn1.ipynb\" target=\"_parent\"><img src=\"https://colab.research.google.com/assets/colab-badge.svg\" alt=\"Open In Colab\"/></a>"
      ]
    },
    {
      "cell_type": "code",
      "execution_count": 27,
      "metadata": {
        "colab": {
          "base_uri": "https://localhost:8080/"
        },
        "id": "6WN7s-k-f3uf",
        "outputId": "dada736c-0342-4b4b-cf75-b686ca3ea565"
      },
      "outputs": [
        {
          "output_type": "stream",
          "name": "stdout",
          "text": [
            "Enter the no of hours you study :6\n",
            "Predicted Exam :74.86\n"
          ]
        },
        {
          "output_type": "stream",
          "name": "stderr",
          "text": [
            "/usr/local/lib/python3.12/dist-packages/sklearn/utils/validation.py:2739: UserWarning: X does not have valid feature names, but LinearRegression was fitted with feature names\n",
            "  warnings.warn(\n"
          ]
        }
      ],
      "source": [
        "''' Problem Statement:\n",
        "\" Predict a students final exam score on the baased on no of hours they study\" '''\n",
        "import numpy as np\n",
        "import pandas as pd\n",
        "from sklearn.model_selection import train_test_split\n",
        "from sklearn.linear_model import LinearRegression\n",
        "\n",
        "# step 1\n",
        "data1={'Hours_study':[2,3,4,5,6,7,8,9,10],'Exam_score':[50,55,66,68,72,87,89,90,92]}\n",
        "\n",
        "# step 2\n",
        "df=pd.DataFrame(data1)\n",
        "df\n",
        "\n",
        "# step 3\n",
        "X=df[['Hours_study']]\n",
        "y=df['Exam_score']\n",
        "\n",
        "# step 4\n",
        "X_train,X_test,y_train,y_test=train_test_split(X,y,test_size=0.2,random_state=42)# test size is ffor kitne pe karna ha\n",
        "# random_state ha ki vvo hi rhe random data baar baar change na hoye\n",
        "\n",
        "# step 5\n",
        "model=LinearRegression()\n",
        "\n",
        "# step 6\n",
        "model.fit(X_train,y_train)\n",
        "\n",
        "# user input testing\n",
        "user_input=float(input(\"Enter the no of hours you study :\"))\n",
        "predicted_score=model.predict([[user_input]])\n",
        "\n",
        "# printing the output\n",
        "print(f\"Predicted Exam :{predicted_score[0]:.2f}\")"
      ]
    }
  ]
}