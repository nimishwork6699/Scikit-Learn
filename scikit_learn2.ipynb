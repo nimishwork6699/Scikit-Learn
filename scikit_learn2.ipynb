{
  "nbformat": 4,
  "nbformat_minor": 0,
  "metadata": {
    "colab": {
      "provenance": [],
      "authorship_tag": "ABX9TyMWnH76eeRVlFgCBKXCHB0M",
      "include_colab_link": true
    },
    "kernelspec": {
      "name": "python3",
      "display_name": "Python 3"
    },
    "language_info": {
      "name": "python"
    }
  },
  "cells": [
    {
      "cell_type": "markdown",
      "metadata": {
        "id": "view-in-github",
        "colab_type": "text"
      },
      "source": [
        "<a href=\"https://colab.research.google.com/github/nimishwork6699/Scikit-Learn/blob/main/scikit_learn2.ipynb\" target=\"_parent\"><img src=\"https://colab.research.google.com/assets/colab-badge.svg\" alt=\"Open In Colab\"/></a>"
      ]
    },
    {
      "cell_type": "code",
      "execution_count": null,
      "metadata": {
        "id": "YClkYLl3ETUb"
      },
      "outputs": [],
      "source": [
        "# Problem Statement\n",
        "'''In an e-commerce company, the managment want to predict wheather a coustemer will purchase a high-valued product based on their\n",
        "age,time spent on website ,and wheather they have added item to their cart .The goal is to optimize marketting strategies\n",
        "by targetting their potential coustemers more effectively , therefore increasing the sales and revenue'''"
      ]
    },
    {
      "cell_type": "code",
      "source": [
        "import numpy as np\n",
        "from sklearn.model_selection import train_test_split\n",
        "from sklearn.linear_model import LogisticRegression\n",
        "X=np.array([[25,30,0],[30,40,1],[20,35,0],[35,45,1]])\n",
        "y=np.array([0,1,0,1])\n",
        "X_train,X_test,y_train,y_test=train_test_split(X,y,test_size=0.2,random_state=42)\n",
        "model=LogisticRegression()\n",
        "model.fit(X_train,y_train)\n",
        "accuracy=model.score(X_test,y_test)\n",
        "print(f\"Model Accuracy:{accuracy}\")\n",
        "user_age=float(input(\"Enter your age:\"))\n",
        "user_time_spent=float(input(\"Enter time spent on website:\"))\n",
        "user_added_to_cart=int(input(\"Enter 1 if added to cart,else 0\"))\n",
        "user_data=np.array([[user_age,user_time_spent,user_added_to_cart]])\n",
        "prediction=model.predict(user_data)\n",
        "if prediction[0]==1:\n",
        "  print(\"The coustemer is likely to purchase\")\n",
        "else :\n",
        "  print(\"The coustemer is not likely to purchase \")"
      ],
      "metadata": {
        "colab": {
          "base_uri": "https://localhost:8080/"
        },
        "id": "FGX4CMyjGn0g",
        "outputId": "a8445446-4f96-4af4-e4dd-b5aa49d40c53"
      },
      "execution_count": 7,
      "outputs": [
        {
          "output_type": "stream",
          "name": "stdout",
          "text": [
            "Model Accuracy:1.0\n",
            "Enter your age:21\n",
            "Enter time spent on website:20\n",
            "Enter 1 if added to cart,else 01\n",
            "The coustemer is not likely to purchase \n"
          ]
        }
      ]
    },
    {
      "cell_type": "code",
      "source": [],
      "metadata": {
        "id": "WocTGi5XKRH3"
      },
      "execution_count": null,
      "outputs": []
    }
  ]
}