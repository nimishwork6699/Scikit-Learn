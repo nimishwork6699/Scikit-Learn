{
  "nbformat": 4,
  "nbformat_minor": 0,
  "metadata": {
    "colab": {
      "provenance": [],
      "authorship_tag": "ABX9TyMFHKbOLaLuo+uWsYOcX0p3",
      "include_colab_link": true
    },
    "kernelspec": {
      "name": "python3",
      "display_name": "Python 3"
    },
    "language_info": {
      "name": "python"
    }
  },
  "cells": [
    {
      "cell_type": "markdown",
      "metadata": {
        "id": "view-in-github",
        "colab_type": "text"
      },
      "source": [
        "<a href=\"https://colab.research.google.com/github/nimishwork6699/Scikit-Learn/blob/main/scikit_learn4.ipynb\" target=\"_parent\"><img src=\"https://colab.research.google.com/assets/colab-badge.svg\" alt=\"Open In Colab\"/></a>"
      ]
    },
    {
      "cell_type": "code",
      "execution_count": 5,
      "metadata": {
        "colab": {
          "base_uri": "https://localhost:8080/"
        },
        "id": "TpLmdOH_4ato",
        "outputId": "03d45dd1-bd1a-4680-9ad0-faf1200148fd"
      },
      "outputs": [
        {
          "output_type": "stream",
          "name": "stdout",
          "text": [
            "Enter your reviewthis product is good\n",
            "Positive\n"
          ]
        }
      ],
      "source": [
        "# Problem statement\n",
        "'''A comppany is looking to develop a text classification model to categorize coustemer reviews into positive or negative\n",
        "sentiments based upon coustemer review into positive and negative . they want to use Naive Bayes classification.'''\n",
        "\n",
        "import numpy as np\n",
        "from sklearn.feature_extraction.text import CountVectorizer\n",
        "from sklearn.naive_bayes import MultinomialNB\n",
        "reviews=[\"The product is excellent and works fine\",\n",
        "         \"the product is not good ,very disapointing\",\n",
        "         \"terrible product waste of money\",\n",
        "         \"i love this product and is amazing\"]\n",
        "sentiments=np.array([1,0,0,1])# 1 for good and 0 for bad\n",
        "vectorizer =CountVectorizer()\n",
        "X=vectorizer.fit_transform(reviews)\n",
        "classifier=MultinomialNB()\n",
        "classifier.fit(X,sentiments)\n",
        "def classifiy_new_reviews(review):\n",
        "  review_vectorized=vectorizer.transform([review])\n",
        "  prediction=classifier.predict(review_vectorized)\n",
        "  if prediction[0]==1:\n",
        "    return \"Positive\"\n",
        "  else :\n",
        "    return \"Negative\"\n",
        "user_review=input(\"Enter your review\")\n",
        "result = classifiy_new_reviews(user_review)\n",
        "print(result)"
      ]
    },
    {
      "cell_type": "code",
      "source": [],
      "metadata": {
        "id": "I8XLSq3oB6Mu"
      },
      "execution_count": null,
      "outputs": []
    }
  ]
}